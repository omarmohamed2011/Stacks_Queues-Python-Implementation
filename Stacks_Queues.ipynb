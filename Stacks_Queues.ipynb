{
  "nbformat": 4,
  "nbformat_minor": 0,
  "metadata": {
    "colab": {
      "name": "Stacks_Queues.ipynb",
      "provenance": [],
      "collapsed_sections": []
    },
    "kernelspec": {
      "name": "python3",
      "display_name": "Python 3"
    },
    "language_info": {
      "name": "python"
    }
  },
  "cells": [
    {
      "cell_type": "markdown",
      "metadata": {
        "id": "sPDIjlqAxS1R"
      },
      "source": [
        "## Stack implementation"
      ]
    },
    {
      "cell_type": "code",
      "metadata": {
        "id": "tkgj7wENq1FF"
      },
      "source": [
        "## Stack : LIFO Last Input First Output\n",
        "class Stack:\n",
        "  def __init__(self):\n",
        "    self.data = []\n",
        "  \n",
        "  def Push(self,key):\n",
        "    self.data.append(key)\n",
        "  \n",
        "  def Top(self):\n",
        "    return self.data[-1]\n",
        "\n",
        "  def Pop(self):\n",
        "    return self.data.pop()\n",
        "\n",
        "  def __str__(self):\n",
        "    return 'The stack contains :' + str(self.data)\n",
        "\n",
        "  def isempty(self):\n",
        "    return len(self.data) == 0\n",
        "\n",
        "s1 = Stack()\n",
        "s1.Push(1)\n",
        "s1.Push('a')\n",
        "s1.Push(7)\n",
        "s1.Push('StackString')"
      ],
      "execution_count": 25,
      "outputs": []
    },
    {
      "cell_type": "code",
      "metadata": {
        "colab": {
          "base_uri": "https://localhost:8080/"
        },
        "id": "EBI5fAIztovg",
        "outputId": "317f39ed-81a0-49f8-e4e3-33676285011f"
      },
      "source": [
        "last_poped_element = s1.Pop()\n",
        "print(last_poped_element)\n",
        "print(s1)"
      ],
      "execution_count": 26,
      "outputs": [
        {
          "output_type": "stream",
          "name": "stdout",
          "text": [
            "StackString\n",
            "The stack contains :[1, 'a', 7]\n"
          ]
        }
      ]
    },
    {
      "cell_type": "code",
      "metadata": {
        "colab": {
          "base_uri": "https://localhost:8080/"
        },
        "id": "Uea92S8Nw0Fj",
        "outputId": "dddcdb15-bcd4-4ffb-8c09-584d0fc610be"
      },
      "source": [
        "last_element = s1.Top()\n",
        "print(last_element)"
      ],
      "execution_count": 27,
      "outputs": [
        {
          "output_type": "stream",
          "name": "stdout",
          "text": [
            "7\n"
          ]
        }
      ]
    },
    {
      "cell_type": "markdown",
      "metadata": {
        "id": "jnzlRcxnxWE0"
      },
      "source": [
        "## Queues implementation"
      ]
    },
    {
      "cell_type": "code",
      "metadata": {
        "id": "lHTcQOQ3xOdR"
      },
      "source": [
        "## Queue: FIFO First Input First Output\n",
        "class Queue:\n",
        "  def __init__(self):\n",
        "    self.data = []\n",
        "  \n",
        "  def Enqueue(self,key):\n",
        "    self.data.append(key)\n",
        "  \n",
        "  def Top(self):\n",
        "    return self.data[0]\n",
        "\n",
        "  def Dequeue(self):\n",
        "    a = self.data[0]\n",
        "    self.data = self.data[1:]\n",
        "    return a\n",
        "\n",
        "  def __str__(self):\n",
        "    return 'The stack contains :' + str(self.data)\n",
        "\n",
        "  def Boolempty(self):\n",
        "    return len(self.data) == 0\n",
        "\n",
        "q1 = Queue()\n",
        "q1.Enqueue(1)\n",
        "q1.Enqueue('a')\n",
        "q1.Enqueue(7)\n",
        "q1.Enqueue('StackString')"
      ],
      "execution_count": 12,
      "outputs": []
    },
    {
      "cell_type": "code",
      "metadata": {
        "colab": {
          "base_uri": "https://localhost:8080/"
        },
        "id": "Co7nZ6qdBe0r",
        "outputId": "aa0da705-1a47-4966-f0a8-914ca0b5c904"
      },
      "source": [
        "first_output = q1.Dequeue()\n",
        "print(first_output)\n",
        "print(q1)"
      ],
      "execution_count": 13,
      "outputs": [
        {
          "output_type": "stream",
          "name": "stdout",
          "text": [
            "1\n",
            "The stack contains :['a', 7, 'StackString']\n"
          ]
        }
      ]
    },
    {
      "cell_type": "code",
      "metadata": {
        "colab": {
          "base_uri": "https://localhost:8080/"
        },
        "id": "H4_WmPj-EAda",
        "outputId": "0757da9f-d4a9-47ad-b870-919b016fbfdd"
      },
      "source": [
        "first_output = q1.Dequeue()\n",
        "print(first_output)\n",
        "print(q1)"
      ],
      "execution_count": 14,
      "outputs": [
        {
          "output_type": "stream",
          "name": "stdout",
          "text": [
            "a\n",
            "The stack contains :[7, 'StackString']\n"
          ]
        }
      ]
    },
    {
      "cell_type": "code",
      "metadata": {
        "colab": {
          "base_uri": "https://localhost:8080/"
        },
        "id": "rUjnpk93EBgR",
        "outputId": "7dfd87e5-9887-41de-d198-dffb6e9d447c"
      },
      "source": [
        "check_emptiness = q1.Boolempty()\n",
        "print(check_emptiness)"
      ],
      "execution_count": 16,
      "outputs": [
        {
          "output_type": "stream",
          "name": "stdout",
          "text": [
            "False\n"
          ]
        }
      ]
    },
    {
      "cell_type": "code",
      "metadata": {
        "id": "ms0oxFRXFTFh"
      },
      "source": [
        "q1.Dequeue()\n",
        "q1.Dequeue()"
      ],
      "execution_count": null,
      "outputs": []
    },
    {
      "cell_type": "code",
      "metadata": {
        "colab": {
          "base_uri": "https://localhost:8080/"
        },
        "id": "xZ9CbbmRFgdf",
        "outputId": "133647d0-7e44-4d43-a8fa-6e58213c6a3c"
      },
      "source": [
        "print(q1)"
      ],
      "execution_count": 19,
      "outputs": [
        {
          "output_type": "stream",
          "name": "stdout",
          "text": [
            "The stack contains :[]\n"
          ]
        }
      ]
    },
    {
      "cell_type": "code",
      "metadata": {
        "colab": {
          "base_uri": "https://localhost:8080/"
        },
        "id": "EGMOXC1rFqdi",
        "outputId": "bfe1d3b5-2476-4809-fa0e-6b29bd4f2e07"
      },
      "source": [
        "check_emptiness = q1.Boolempty()\n",
        "\n",
        "print(check_emptiness)"
      ],
      "execution_count": 20,
      "outputs": [
        {
          "output_type": "stream",
          "name": "stdout",
          "text": [
            "True\n"
          ]
        }
      ]
    }
  ]
}